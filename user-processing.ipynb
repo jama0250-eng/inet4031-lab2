{
 "cells": [
  {
   "cell_type": "code",
   "execution_count": 3,
   "id": "a5c427fa-9a22-4424-a9e3-f39a91090f95",
   "metadata": {},
   "outputs": [
    {
     "name": "stdout",
     "output_type": "stream",
     "text": [
      "list-of-users.txt was read.\n"
     ]
    },
    {
     "name": "stdin",
     "output_type": "stream",
     "text": [
      "Do you want to print out the list of users? (Y or N):  y\n"
     ]
    },
    {
     "name": "stdout",
     "output_type": "stream",
     "text": [
      "dwash1:abc123:Washington:Denzel:administrators\n",
      "brpit2:abc123:Pitt:Brad:users\n",
      "tcook1:abc123:Tim:Cook:managers\n",
      "byonce:abc123:Knowles-Carter:Beyonce:administrators,queens\n",
      "End of User Processing\n"
     ]
    }
   ],
   "source": [
    "# Open the user list file\n",
    "userFile = open(\"list-of-users.txt\", \"r\")\n",
    "listOfUsers = userFile.readlines()\n",
    "print(\"list-of-users.txt was read.\")\n",
    "\n",
    "# Ask the user to proceed\n",
    "answer = input(\"Do you want to print out the list of users? (Y or N): \")\n",
    "\n",
    "if answer.lower() == \"y\":\n",
    "    for userline in listOfUsers:\n",
    "        print(userline.strip())\n",
    "else:\n",
    "    print(\"Ok not printing, ending program.\")\n",
    "\n",
    "print(\"End of User Processing\")"
   ]
  },
  {
   "cell_type": "code",
   "execution_count": null,
   "id": "d63bf082-c79a-4d88-8527-582d2a5221f3",
   "metadata": {},
   "outputs": [],
   "source": []
  }
 ],
 "metadata": {
  "kernelspec": {
   "display_name": "Python 3 (ipykernel)",
   "language": "python",
   "name": "python3"
  },
  "language_info": {
   "codemirror_mode": {
    "name": "ipython",
    "version": 3
   },
   "file_extension": ".py",
   "mimetype": "text/x-python",
   "name": "python",
   "nbconvert_exporter": "python",
   "pygments_lexer": "ipython3",
   "version": "3.13.3"
  }
 },
 "nbformat": 4,
 "nbformat_minor": 5
}
